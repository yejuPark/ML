{
 "cells": [
  {
   "cell_type": "code",
   "execution_count": 2,
   "metadata": {},
   "outputs": [
    {
     "name": "stdout",
     "output_type": "stream",
     "text": [
      "     년식   종류    연비   마력    토크   연료  하이브리드   배기량    중량 변속기\n",
      "0  2015  준중형  11.8  172  21.0  가솔린      0  1999  1300  자동\n",
      "1  2015  준중형  12.3  204  27.0  가솔린      0  1591  1300  자동\n",
      "2  2015   소형  15.0  100  13.6  가솔린      0  1368  1035  수동\n",
      "3  2014   소형  14.0  140  17.0  가솔린      0  1591  1090  자동\n",
      "4  2015   대형   9.6  175  46.0   디젤      0  2497  1990  자동\n",
      "Index(['년식', '종류', '연비', '마력', '토크', '연료', '하이브리드', '배기량', '중량', '변속기'], dtype='object')\n",
      "훈련_R2: 0.7893994995666986\n",
      "테스트_R2: 0.5894241447591622\n",
      "예측값: 1898.0\n"
     ]
    }
   ],
   "source": [
    "import pandas as pd\n",
    "import numpy as np\n",
    "from sklearn.preprocessing import OneHotEncoder\n",
    "from sklearn.compose import make_column_transformer\n",
    "from sklearn.neighbors import KNeighborsRegressor\n",
    "from sklearn.pipeline import make_pipeline\n",
    "# 경고메세지 끄기\n",
    "import warnings\n",
    "warnings.filterwarnings(action='ignore')\n",
    "\n",
    "##########데이터 로드\n",
    "\n",
    "train_df = pd.read_csv('./data/train_pre.csv')\n",
    "test_df = pd.read_csv('./data/test.csv')\n",
    "\n",
    "##########데이터 분석\n",
    "\n",
    "##########데이터 전처리\n",
    "\n",
    "x_train = train_df.drop(['가격'], axis=1)\n",
    "x_test = test_df.drop(['가격'], axis=1)\n",
    "y_train = train_df['가격']\n",
    "y_test = test_df['가격']\n",
    "\n",
    "print(x_train.head())\n",
    "'''\n",
    "     년식  종류    연비   마력    토크   연료  하이브리드   배기량    중량 변속기\n",
    "0  2015  대형   6.8  159  23.0  LPG      0  2359  1935  수동\n",
    "1  2012  소형  13.3  108  13.9  가솔린      0  1396  1035  자동\n",
    "2  2015  중형  14.4  184  41.0   디젤      0  1995  1792  자동\n",
    "3  2015  대형  10.9  175  46.0   디젤      0  2497  2210  수동\n",
    "4  2015  대형   6.4  159  23.0  LPG      0  2359  1935  자동\n",
    "'''\n",
    "print(x_train.columns) #Index(['년식', '종류', '연비', '마력', '토크', '연료', '하이브리드', '배기량', '중량', '변속기'], dtype='object')\n",
    "\n",
    "transformer = make_column_transformer(\n",
    "    (OneHotEncoder(), ['종류', '연료', '변속기']),\n",
    "    remainder='passthrough')\n",
    "\n",
    "\n",
    "##########모델 생성\n",
    "#파이프라인을 이용하여 전처리와 모델 순차적으로 실행되도록 함\n",
    "\n",
    "\n",
    "##########모델 학습\n",
    "\n",
    "model.fit(x_train, y_train)\n",
    "\n",
    "##########모델 검증\n",
    "\n",
    "print(f'훈련_R2: {model.score(x_train, y_train)}') \n",
    "print(f'테스트_R2: {model.score(x_test, y_test)}') \n",
    "\n",
    "##########모델 예측\n",
    "\n",
    "x_real = np.array([\n",
    "    [2015, '대형', 6.8, 159, 23, 'LPG', 0,2359, 1935, '수동']\n",
    "])\n",
    "\n",
    "x_real_df = pd.DataFrame(x_real, columns=['년식', '종류', '연비', '마력', '토크', '연료', '하이브리드', '배기량', '중량', '변속기'])\n",
    "\n",
    "y_predict = model.predict(x_real_df)\n",
    "\n",
    "print(f'예측값: {y_predict[0]}')\n"
   ]
  }
 ],
 "metadata": {
  "kernelspec": {
   "display_name": "Python 3",
   "language": "python",
   "name": "python3"
  },
  "language_info": {
   "codemirror_mode": {
    "name": "ipython",
    "version": 3
   },
   "file_extension": ".py",
   "mimetype": "text/x-python",
   "name": "python",
   "nbconvert_exporter": "python",
   "pygments_lexer": "ipython3",
   "version": "3.10.11"
  },
  "orig_nbformat": 4
 },
 "nbformat": 4,
 "nbformat_minor": 2
}
