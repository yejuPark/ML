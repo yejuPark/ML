{
 "cells": [
  {
   "cell_type": "code",
   "execution_count": 3,
   "metadata": {},
   "outputs": [
    {
     "name": "stdout",
     "output_type": "stream",
     "text": [
      "      길이\n",
      "4   17.4\n",
      "41  36.0\n",
      "27  25.0\n",
      "47  40.0\n",
      "46  39.0\n",
      "0.9680392257494445\n",
      "0.9929281790592219\n",
      "1010.0\n"
     ]
    }
   ],
   "source": [
    "import pandas as pd\n",
    "import numpy as np\n",
    "from sklearn.model_selection import train_test_split\n",
    "\n",
    "from sklearn.neighbors import KNeighborsRegressor\n",
    "\n",
    "# 경고메세지 끄기\n",
    "import warnings\n",
    "warnings.filterwarnings(action='ignore')\n",
    "\n",
    "##########데이터 로드\n",
    "\n",
    "\n",
    "##########데이터 분석\n",
    "\n",
    "##########데이터 전처리\n",
    "\n",
    "\n",
    "\n",
    "\n",
    "##########모델 생성\n",
    "\n",
    "model = KNeighborsRegressor()\n",
    "\n",
    "##########모델 학습\n",
    "\n",
    "model.fit(x_train, y_train)\n",
    "\n",
    "##########모델 검증\n",
    "\n",
    "print(model.score(x_train, y_train)) #0.9680392257494445\n",
    "print(model.score(x_test, y_test)) #0.9929281790592219\n",
    "\n",
    "##########모델 예측\n",
    "\n",
    "x_test = np.array([\n",
    "    [50]\n",
    "])\n",
    "\n",
    "y_predict = model.predict(x_test)\n",
    "\n",
    "print(y_predict[0]) #1245.423930742852"
   ]
  },
  {
   "cell_type": "markdown",
   "metadata": {},
   "source": [
    "```\n",
    "[참고]\n",
    "기계 학습에서 훈련 데이터보다 테스트 데이터에서 R-제곱(R2) 값이 더 높은 것은 드문 일입니다.\n",
    "이 비정상적인 시나리오에는 몇 가지 이유가 있을 수 있습니다.\n",
    "1. 데이터 유출\n",
    "2. 작은 테스트 세트\n",
    "```"
   ]
  }
 ],
 "metadata": {
  "kernelspec": {
   "display_name": "Python 3",
   "language": "python",
   "name": "python3"
  },
  "language_info": {
   "codemirror_mode": {
    "name": "ipython",
    "version": 3
   },
   "file_extension": ".py",
   "mimetype": "text/x-python",
   "name": "python",
   "nbconvert_exporter": "python",
   "pygments_lexer": "ipython3",
   "version": "3.10.11"
  },
  "orig_nbformat": 4
 },
 "nbformat": 4,
 "nbformat_minor": 2
}
