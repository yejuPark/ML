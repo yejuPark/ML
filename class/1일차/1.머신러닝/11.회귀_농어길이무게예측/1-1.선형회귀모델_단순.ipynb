{
 "cells": [
  {
   "cell_type": "markdown",
   "metadata": {},
   "source": [
    "## 모델 학습: 선형 회귀\n",
    "\n",
    "* 대표적인 회귀 알고리즘입니다. \n",
    "* 선형이란 말처럼 특성이 하나인 경우 어떤 직선을 학습하는 알고리즘이다. \n",
    "* 이때 직선을 학습한다는 말은 특성을 가장 잘 나타낼 수 있는 직선을 찾는다는 의미이다.  \n",
    "\n"
   ]
  },
  {
   "cell_type": "code",
   "execution_count": 9,
   "metadata": {},
   "outputs": [
    {
     "name": "stdout",
     "output_type": "stream",
     "text": [
      "      길이\n",
      "4   17.4\n",
      "41  36.0\n",
      "27  25.0\n",
      "47  40.0\n",
      "46  39.0\n",
      "0.9371680443381393\n",
      "0.8324765337629763\n",
      "1245.423930742852\n",
      "[39.27726005] -718.4390718914794\n"
     ]
    }
   ],
   "source": [
    "import pandas as pd\n",
    "import numpy as np\n",
    "from sklearn.model_selection import train_test_split\n",
    "from sklearn.metrics import mean_squared_error , r2_score, mean_absolute_error\n",
    "from sklearn.linear_model import LinearRegression\n",
    "\n",
    "# 경고메세지 끄기\n",
    "import warnings\n",
    "warnings.filterwarnings(action='ignore')\n",
    "\n",
    "##########데이터 로드\n",
    "\n",
    "fish_df = pd.read_csv('')\n",
    "\n",
    "##########데이터 분석\n",
    "\n",
    "##########데이터 전처리\n",
    "\n",
    "\n",
    "\n",
    "\n",
    "\n",
    "##########모델 생성\n",
    "\n",
    "model = LinearRegression()\n",
    "\n",
    "##########모델 학습\n",
    "\n",
    "model.fit(x_train, y_train)\n",
    "\n",
    "##########모델 검증\n",
    "\n",
    "print(model.score(x_train, y_train)) #0.9371680443381393\n",
    "print(model.score(x_test, y_test)) #0.8324765337629763\n",
    "\n",
    "\n",
    "##########모델 예측\n",
    "\n",
    "x_test = np.array([\n",
    "    [50]\n",
    "])\n",
    "\n",
    "y_predict = model.predict(x_test)\n",
    "\n",
    "print(y_predict[0]) #1245.423930742852\n",
    "\n",
    "#model객체에 coef_와 intercept_ 속성에 저장되어 있음\n",
    "print(model.coef_ , model.intercept_)"
   ]
  },
  {
   "cell_type": "markdown",
   "metadata": {},
   "source": [
    "---\n",
    "**[농어 무게 예측 방정식]**\n",
    "\n",
    "$y = 39.27*x - 718.43$\n",
    "\n",
    "---"
   ]
  },
  {
   "cell_type": "markdown",
   "metadata": {},
   "source": [
    "> * coef_는 기울기, intercept_를 절편이다.\n",
    "> * 머신러닝에서는 기울기를 계수(coefficient) 또는 가중치(weight)라고 부른다.\n",
    "> * 이는 머신러닝 알고리즘이 학습을 하고 찾은 값이라는 의미로 모델 파라미터라고 부른다. \n",
    "> * 많은 머신러닝 알고리즘의 훈련과정은 최적의 모델 파라미터를 찾는 것과 같다. "
   ]
  },
  {
   "cell_type": "code",
   "execution_count": 3,
   "metadata": {},
   "outputs": [
    {
     "data": {
      "text/html": [
       "<div>\n",
       "<style scoped>\n",
       "    .dataframe tbody tr th:only-of-type {\n",
       "        vertical-align: middle;\n",
       "    }\n",
       "\n",
       "    .dataframe tbody tr th {\n",
       "        vertical-align: top;\n",
       "    }\n",
       "\n",
       "    .dataframe thead th {\n",
       "        text-align: right;\n",
       "    }\n",
       "</style>\n",
       "<table border=\"1\" class=\"dataframe\">\n",
       "  <thead>\n",
       "    <tr style=\"text-align: right;\">\n",
       "      <th></th>\n",
       "      <th>길이</th>\n",
       "      <th>무게</th>\n",
       "    </tr>\n",
       "  </thead>\n",
       "  <tbody>\n",
       "    <tr>\n",
       "      <th>0</th>\n",
       "      <td>8.4</td>\n",
       "      <td>5.9</td>\n",
       "    </tr>\n",
       "    <tr>\n",
       "      <th>1</th>\n",
       "      <td>13.7</td>\n",
       "      <td>32.0</td>\n",
       "    </tr>\n",
       "    <tr>\n",
       "      <th>2</th>\n",
       "      <td>15.0</td>\n",
       "      <td>40.0</td>\n",
       "    </tr>\n",
       "  </tbody>\n",
       "</table>\n",
       "</div>"
      ],
      "text/plain": [
       "     길이    무게\n",
       "0   8.4   5.9\n",
       "1  13.7  32.0\n",
       "2  15.0  40.0"
      ]
     },
     "execution_count": 3,
     "metadata": {},
     "output_type": "execute_result"
    }
   ],
   "source": [
    "fish_df.head(3)"
   ]
  },
  {
   "cell_type": "code",
   "execution_count": 4,
   "metadata": {},
   "outputs": [
    {
     "data": {
      "image/png": "[encoded data removed]",
      "text/plain": [
       "<Figure size 640x480 with 1 Axes>"
      ]
     },
     "metadata": {},
     "output_type": "display_data"
    }
   ],
   "source": [
    "import matplotlib.pyplot as plt\n",
    "\n",
    "# 훈련 세트의 산점도를 그립니다\n",
    "plt.scatter(x_train, y_train)\n",
    "\n",
    "# 농어의 길이 15에서 50까지 1차 방정식 직선 그래프를 그립니다\n",
    "plt.plot([15, 50], [15*model.coef_+model.intercept_, 50*model.coef_+model.intercept_])\n",
    "\n",
    "# 50cm 농어 데이터\n",
    "plt.scatter(50, 1245.42, marker='^')\n",
    "plt.xlabel('length')\n",
    "plt.ylabel('weight')\n",
    "plt.show()"
   ]
  },
  {
   "cell_type": "markdown",
   "metadata": {},
   "source": [
    "> * 길이가 50cm인 농어에 대한 예측은 이 직선의 연장선에 있다.\n",
    "> * 이제 훈련 세트 범위를 벗어난 농어의 무게도 예측가능하게 되었다. "
   ]
  },
  {
   "cell_type": "markdown",
   "metadata": {},
   "source": [
    "> * 훈련세트에 비해서 테스트 세트의 성능이 많이 떨어지는 것을 보아 과대적합이 된 것 같다. \n",
    "> * 그리고 그래프 왼쪽아래가 이상하다.\n",
    "> * 무게를 음수로 예측하다니...\n",
    "\n",
    "\n",
    "> * 1차 선형방정식이니 무게가 음수로 예측될 수 밖에 없다. \n",
    "> * 좀 더 예측력을 높이기 위해 곡선인 다항 회귀로 접근해야 겠다. "
   ]
  }
 ],
 "metadata": {
  "kernelspec": {
   "display_name": "Python 3",
   "language": "python",
   "name": "python3"
  },
  "language_info": {
   "codemirror_mode": {
    "name": "ipython",
    "version": 3
   },
   "file_extension": ".py",
   "mimetype": "text/x-python",
   "name": "python",
   "nbconvert_exporter": "python",
   "pygments_lexer": "ipython3",
   "version": "3.10.11"
  },
  "orig_nbformat": 4
 },
 "nbformat": 4,
 "nbformat_minor": 2
}
