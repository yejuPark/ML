{
 "cells": [
  {
   "cell_type": "markdown",
   "metadata": {},
   "source": [
    "![image.png](data:image/png;base64,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)"
   ]
  },
  {
   "cell_type": "code",
   "execution_count": 26,
   "metadata": {},
   "outputs": [],
   "source": [
    "import numpy as np\n",
    "from sklearn.model_selection import train_test_split\n",
    "\n",
    "##########데이터 로드\n",
    "\n",
    "x_data = np.array([\n",
    "    [1, 1],\n",
    "    [2, 2],\n",
    "    [3, 4],\n",
    "    [4, 5],\n",
    "    [5, 5],\n",
    "    [6, 5],\n",
    "    [7, 9],\n",
    "    [8, 10],\n",
    "    [9, 12],\n",
    "    [10, 2],\n",
    "    [11, 10],\n",
    "    [12, 4]\n",
    "])\n",
    "y_data = np.array([3, 5, 7, 10, 12, 7, 13, 13, 12, 13, 12, 6])\n",
    "\n",
    "##########데이터 분석\n",
    "\n",
    "##########데이터 전처리"
   ]
  },
  {
   "cell_type": "code",
   "execution_count": 28,
   "metadata": {},
   "outputs": [
    {
     "name": "stdout",
     "output_type": "stream",
     "text": [
      "[[10  2]\n",
      " [12  4]\n",
      " [ 4  5]\n",
      " [ 7  9]\n",
      " [ 6  5]\n",
      " [ 2  2]\n",
      " [ 3  4]\n",
      " [11 10]]\n",
      "[[ 8 10]\n",
      " [ 9 12]\n",
      " [ 1  1]\n",
      " [ 5  5]]\n",
      "[13  6 10 13  7  5  7 12]\n",
      "[13 12  3 12]\n"
     ]
    }
   ],
   "source": [
    "#랜덤 데이터 추출 옵션  \n",
    "\n",
    "x_train, x_test, y_train, y_test = train_test_split(x_data, y_data, test_size=0.3) \n",
    "print(x_train) #[[5, 5], [3, 2], [2, 4], [2, 5], [9, 10], [7, 5], [6, 10], [9, 2]]\n",
    "print(x_test) #[[6, 12], [3, 4], [2, 1], [8, 9]]\n",
    "print(y_train) #[10, 5, 6, 7, 13, 12, 12, 13]\n",
    "print(y_test) #[12, 7, 3, 13]"
   ]
  },
  {
   "cell_type": "code",
   "execution_count": 29,
   "metadata": {},
   "outputs": [
    {
     "name": "stdout",
     "output_type": "stream",
     "text": [
      "[[ 9 12]\n",
      " [ 5  5]\n",
      " [ 6  5]\n",
      " [10  2]\n",
      " [ 2  2]\n",
      " [12  4]\n",
      " [ 7  9]\n",
      " [ 8 10]]\n",
      "[[11 10]\n",
      " [ 1  1]\n",
      " [ 4  5]\n",
      " [ 3  4]]\n",
      "[12 12  7 13  5  6 13 13]\n",
      "[12  3 10  7]\n"
     ]
    }
   ],
   "source": [
    "#같은 랜덤 시드 사용 같은 랜덤 데이터 추출 옵션 \n",
    "\n",
    "x_train, x_test, y_train, y_test = train_test_split(x_data, y_data, test_size=0.3, random_state=777)\n",
    "print(x_train) #[[6, 12], [7, 5], [2, 5], [9, 2], [3, 2], [2, 4], [8, 9], [9, 10]]\n",
    "print(x_test) #[[6, 10], [2, 1], [5, 5], [3, 4]]\n",
    "print(y_train) #[12, 12, 7, 13, 5, 6, 13, 13]\n",
    "print(y_test) #[12, 3, 10, 7]"
   ]
  },
  {
   "cell_type": "code",
   "execution_count": 30,
   "metadata": {},
   "outputs": [
    {
     "name": "stdout",
     "output_type": "stream",
     "text": [
      "9.4827304868099\n"
     ]
    }
   ],
   "source": [
    "import numpy as np\n",
    "from sklearn.model_selection import train_test_split\n",
    "from sklearn.linear_model import LinearRegression\n",
    "\n",
    "##########데이터 로드\n",
    "\n",
    "x_data = np.array([\n",
    "    [1, 1],\n",
    "    [2, 2],\n",
    "    [3, 4],\n",
    "    [4, 5],\n",
    "    [5, 5],\n",
    "    [6, 5],\n",
    "    [7, 9],\n",
    "    [8, 10],\n",
    "    [9, 12],\n",
    "    [10, 2],\n",
    "    [11, 10],\n",
    "    [12, 4]\n",
    "])\n",
    "y_data = np.array([3, 5, 7, 10, 12, 7, 13, 13, 12, 13, 12, 6])\n",
    "\n",
    "##########데이터 분석\n",
    "\n",
    "##########데이터 전처리\n",
    "\n",
    "x_train, x_test, y_train, y_test = train_test_split(x_data, y_data, test_size=0.3, random_state=777)\n",
    "\n",
    "##########모델 생성\n",
    "\n",
    "model = LinearRegression()\n",
    "\n",
    "##########모델 학습\n",
    "\n",
    "model.fit(x_train, y_train)\n",
    "\n",
    "##########모델 검증\n",
    "\n",
    "##########모델 예측\n",
    "\n",
    "x_test = np.array([\n",
    "    [4, 6]\n",
    "])\n",
    "\n",
    "y_predict = model.predict(x_test)\n",
    "\n",
    "print(y_predict[0]) #9.4827304868099\n"
   ]
  },
  {
   "attachments": {},
   "cell_type": "markdown",
   "metadata": {},
   "source": [
    "---"
   ]
  },
  {
   "attachments": {},
   "cell_type": "markdown",
   "metadata": {},
   "source": [
    "## 분류"
   ]
  },
  {
   "cell_type": "code",
   "execution_count": 1,
   "metadata": {},
   "outputs": [
    {
     "name": "stdout",
     "output_type": "stream",
     "text": [
      "pass 0.7439902354649885\n"
     ]
    }
   ],
   "source": [
    "import numpy as np\n",
    "from sklearn.model_selection import train_test_split\n",
    "from sklearn.linear_model import LogisticRegression\n",
    "\n",
    "##########데이터 로드\n",
    "\n",
    "x_data = np.array([\n",
    "    [2, 1],\n",
    "    [3, 2],\n",
    "    [3, 4],\n",
    "    [5, 5],\n",
    "    [7, 5],\n",
    "    [2, 5],\n",
    "    [8, 9],\n",
    "    [9, 10],\n",
    "    [6, 12],\n",
    "    [9, 2],\n",
    "    [6, 10],\n",
    "    [2, 4]\n",
    "])\n",
    "y_data = np.array([0, 0, 0, 1, 1, 0, 1, 1, 1, 1, 1, 0])\n",
    "\n",
    "labels = ['fail', 'pass']\n",
    "\n",
    "##########데이터 분석\n",
    "\n",
    "##########데이터 전처리\n",
    "\n",
    "x_train, x_test, y_train, y_test = train_test_split(x_data, y_data, test_size=0.3, random_state=777, stratify=y_data)\n",
    "\n",
    "##########모델 생성\n",
    "\n",
    "model = LogisticRegression()\n",
    "\n",
    "##########모델 학습\n",
    "\n",
    "model.fit(x_train, y_train)\n",
    "\n",
    "##########모델 검증\n",
    "\n",
    "##########모델 예측\n",
    "\n",
    "x_test = np.array([\n",
    "    [4, 6]\n",
    "])\n",
    "\n",
    "y_predict = model.predict(x_test)\n",
    "label = labels[y_predict[0]]\n",
    "y_predict = model.predict_proba(x_test)\n",
    "confidence = y_predict[0][y_predict[0].argmax()]\n",
    "\n",
    "print(label, confidence) #\n"
   ]
  },
  {
   "attachments": {},
   "cell_type": "markdown",
   "metadata": {},
   "source": [
    "## 다중 분류"
   ]
  },
  {
   "cell_type": "code",
   "execution_count": null,
   "metadata": {},
   "outputs": [],
   "source": [
    "import numpy as np\n",
    "from sklearn.model_selection import train_test_split\n",
    "from sklearn.linear_model import LogisticRegression\n",
    "\n",
    "##########데이터 로드\n",
    "\n",
    "x_data = np.array([\n",
    "    [2, 1],\n",
    "    [3, 2],\n",
    "    [3, 4],\n",
    "    [5, 5],\n",
    "    [7, 5],\n",
    "    [2, 5],\n",
    "    [8, 9],\n",
    "    [9, 10],\n",
    "    [6, 12],\n",
    "    [9, 2],\n",
    "    [6, 10],\n",
    "    [2, 4]\n",
    "])\n",
    "y_data = np.array([2, 2, 2, 1, 1, 2, 0, 0, 0, 1, 0, 2])\n",
    "\n",
    "labels = ['A', 'B', 'C']\n",
    "\n",
    "##########데이터 분석\n",
    "\n",
    "##########데이터 전처리\n",
    "\n",
    "x_train, x_test, y_train, y_test = train_test_split(x_data, y_data, test_size=0.3, random_state=777, stratify=y_data)\n",
    "\n",
    "##########모델 생성\n",
    "\n",
    "model = LogisticRegression()\n",
    "\n",
    "##########모델 학습\n",
    "\n",
    "model.fit(x_train, y_train)\n",
    "\n",
    "##########모델 검증\n",
    "\n",
    "##########모델 예측\n",
    "\n",
    "x_test = np.array([\n",
    "    [4, 6]\n",
    "])\n",
    "\n",
    "y_predict = model.predict(x_test)\n",
    "label = labels[y_predict[0]]\n",
    "y_predict = model.predict_proba(x_test)\n",
    "confidence = y_predict[0][y_predict[0].argmax()]\n",
    "\n",
    "print(label, confidence) #\n"
   ]
  }
 ],
 "metadata": {
  "kernelspec": {
   "display_name": "Python 3",
   "language": "python",
   "name": "python3"
  },
  "language_info": {
   "codemirror_mode": {
    "name": "ipython",
    "version": 3
   },
   "file_extension": ".py",
   "mimetype": "text/x-python",
   "name": "python",
   "nbconvert_exporter": "python",
   "pygments_lexer": "ipython3",
   "version": "3.10.11"
  },
  "orig_nbformat": 4
 },
 "nbformat": 4,
 "nbformat_minor": 2
}
